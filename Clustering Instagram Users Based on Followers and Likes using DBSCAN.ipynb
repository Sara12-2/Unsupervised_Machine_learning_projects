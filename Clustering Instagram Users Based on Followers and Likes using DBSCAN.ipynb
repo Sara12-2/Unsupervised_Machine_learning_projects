{
 "cells": [
  {
   "cell_type": "markdown",
   "id": "0da4c689",
   "metadata": {},
   "source": [
    "### Clustering Instagram Users Based on Followers and Likes using DBSCAN"
   ]
  },
  {
   "cell_type": "markdown",
   "id": "3c955ba4",
   "metadata": {},
   "source": [
    "#### Importing libraries"
   ]
  },
  {
   "cell_type": "code",
   "execution_count": 1,
   "id": "9e1636bf",
   "metadata": {},
   "outputs": [],
   "source": [
    "# ---- Step 1: Import Libraries ----\n",
    "import numpy as np\n",
    "import pandas as pd\n",
    "import matplotlib.pyplot as plt\n",
    "from sklearn.preprocessing import StandardScaler\n",
    "from sklearn.cluster import DBSCAN"
   ]
  },
  {
   "cell_type": "markdown",
   "id": "d2edc08f",
   "metadata": {},
   "source": [
    "#### Loading Dataset"
   ]
  },
  {
   "cell_type": "code",
   "execution_count": 10,
   "id": "8d54c7aa",
   "metadata": {},
   "outputs": [
    {
     "name": "stdout",
     "output_type": "stream",
     "text": [
      "Dataset Preview:\n"
     ]
    },
    {
     "data": {
      "text/html": [
       "<div>\n",
       "<style scoped>\n",
       "    .dataframe tbody tr th:only-of-type {\n",
       "        vertical-align: middle;\n",
       "    }\n",
       "\n",
       "    .dataframe tbody tr th {\n",
       "        vertical-align: top;\n",
       "    }\n",
       "\n",
       "    .dataframe thead th {\n",
       "        text-align: right;\n",
       "    }\n",
       "</style>\n",
       "<table border=\"1\" class=\"dataframe\">\n",
       "  <thead>\n",
       "    <tr style=\"text-align: right;\">\n",
       "      <th></th>\n",
       "      <th>Unnamed: 0</th>\n",
       "      <th>S.No</th>\n",
       "      <th>USERNAME</th>\n",
       "      <th>Caption</th>\n",
       "      <th>Followers</th>\n",
       "      <th>Hashtags</th>\n",
       "      <th>Time since posted</th>\n",
       "      <th>Likes</th>\n",
       "    </tr>\n",
       "  </thead>\n",
       "  <tbody>\n",
       "    <tr>\n",
       "      <th>0</th>\n",
       "      <td>0</td>\n",
       "      <td>1</td>\n",
       "      <td>mikequindazzi</td>\n",
       "      <td>Who are #DataScientist and what do they do? &gt;&gt;...</td>\n",
       "      <td>1600</td>\n",
       "      <td>#MachineLearning #AI #DataAnalytics #DataScien...</td>\n",
       "      <td>11 hours</td>\n",
       "      <td>139</td>\n",
       "    </tr>\n",
       "    <tr>\n",
       "      <th>1</th>\n",
       "      <td>1</td>\n",
       "      <td>2</td>\n",
       "      <td>drgorillapaints</td>\n",
       "      <td>We all know where it’s going. We just have to ...</td>\n",
       "      <td>880</td>\n",
       "      <td>#deck .#mac #macintosh#sayhello #apple #steve...</td>\n",
       "      <td>2 hours</td>\n",
       "      <td>23</td>\n",
       "    </tr>\n",
       "    <tr>\n",
       "      <th>2</th>\n",
       "      <td>2</td>\n",
       "      <td>3</td>\n",
       "      <td>aitrading_official</td>\n",
       "      <td>Alexander Barinov: 4 years as CFO in multinati...</td>\n",
       "      <td>255</td>\n",
       "      <td>#whoiswho #aitrading #ai #aitradingteam#instat...</td>\n",
       "      <td>2 hours</td>\n",
       "      <td>25</td>\n",
       "    </tr>\n",
       "    <tr>\n",
       "      <th>3</th>\n",
       "      <td>3</td>\n",
       "      <td>4</td>\n",
       "      <td>opensourcedworkplace</td>\n",
       "      <td>sfad</td>\n",
       "      <td>340</td>\n",
       "      <td>#iot #cre#workplace #CDO #bigdata #technology#...</td>\n",
       "      <td>3 hours</td>\n",
       "      <td>49</td>\n",
       "    </tr>\n",
       "    <tr>\n",
       "      <th>4</th>\n",
       "      <td>4</td>\n",
       "      <td>5</td>\n",
       "      <td>crea.vision</td>\n",
       "      <td>Ever missed a call while your phone was chargi...</td>\n",
       "      <td>304</td>\n",
       "      <td>#instamachinelearning #instabigdata#instamarke...</td>\n",
       "      <td>3 hours</td>\n",
       "      <td>30</td>\n",
       "    </tr>\n",
       "  </tbody>\n",
       "</table>\n",
       "</div>"
      ],
      "text/plain": [
       "   Unnamed: 0  S.No              USERNAME  \\\n",
       "0           0     1         mikequindazzi   \n",
       "1           1     2       drgorillapaints   \n",
       "2           2     3    aitrading_official   \n",
       "3           3     4  opensourcedworkplace   \n",
       "4           4     5           crea.vision   \n",
       "\n",
       "                                             Caption  Followers  \\\n",
       "0  Who are #DataScientist and what do they do? >>...       1600   \n",
       "1  We all know where it’s going. We just have to ...        880   \n",
       "2  Alexander Barinov: 4 years as CFO in multinati...        255   \n",
       "3                                               sfad        340   \n",
       "4  Ever missed a call while your phone was chargi...        304   \n",
       "\n",
       "                                            Hashtags Time since posted  Likes  \n",
       "0  #MachineLearning #AI #DataAnalytics #DataScien...          11 hours    139  \n",
       "1   #deck .#mac #macintosh#sayhello #apple #steve...           2 hours     23  \n",
       "2  #whoiswho #aitrading #ai #aitradingteam#instat...           2 hours     25  \n",
       "3  #iot #cre#workplace #CDO #bigdata #technology#...           3 hours     49  \n",
       "4  #instamachinelearning #instabigdata#instamarke...           3 hours     30  "
      ]
     },
     "metadata": {},
     "output_type": "display_data"
    }
   ],
   "source": [
    "\n",
    "# ---- Step 2: Load Dataset ----\n",
    "# Replace with your Kaggle dataset file name\n",
    "df = pd.read_csv(r\"C:\\Users\\User\\Desktop\\Traffic\\instagram_reach.csv\")\n",
    "\n",
    "# Preview first rows\n",
    "print(\"Dataset Preview:\")\n",
    "display(df.head())\n"
   ]
  },
  {
   "cell_type": "markdown",
   "id": "bd4f4a19",
   "metadata": {},
   "source": [
    "#### Checking columns names"
   ]
  },
  {
   "cell_type": "code",
   "execution_count": 11,
   "id": "3c5ad8d8",
   "metadata": {},
   "outputs": [
    {
     "data": {
      "text/plain": [
       "Index(['Unnamed: 0', 'S.No', 'USERNAME', 'Caption', 'Followers', 'Hashtags',\n",
       "       'Time since posted', 'Likes'],\n",
       "      dtype='object')"
      ]
     },
     "execution_count": 11,
     "metadata": {},
     "output_type": "execute_result"
    }
   ],
   "source": [
    "df.columns"
   ]
  },
  {
   "cell_type": "markdown",
   "id": "fdc77527",
   "metadata": {},
   "source": [
    "### Select Numeric features"
   ]
  },
  {
   "cell_type": "code",
   "execution_count": 12,
   "id": "aee7e9f0",
   "metadata": {},
   "outputs": [
    {
     "data": {
      "text/plain": [
       "array([[1600,  139],\n",
       "       [ 880,   23],\n",
       "       [ 255,   25],\n",
       "       [ 340,   49],\n",
       "       [ 304,   30],\n",
       "       [1231,   18],\n",
       "       [ 259,   35],\n",
       "       [1433,   86],\n",
       "       [  13,   22],\n",
       "       [ 450,   18],\n",
       "       [ 149,   31],\n",
       "       [2232,   48],\n",
       "       [1061,   80],\n",
       "       [ 533,   94],\n",
       "       [2904,   28],\n",
       "       [ 971,   53],\n",
       "       [ 285,   29],\n",
       "       [ 520,   46],\n",
       "       [  75,   30],\n",
       "       [2691,   34],\n",
       "       [ 966,  198],\n",
       "       [ 334,   19],\n",
       "       [1041,   20],\n",
       "       [4496,   11],\n",
       "       [ 166,   10],\n",
       "       [1211,   46],\n",
       "       [ 265,   25],\n",
       "       [1618,  148],\n",
       "       [ 279,   43],\n",
       "       [ 279,   37],\n",
       "       [ 828,   90],\n",
       "       [  12,   19],\n",
       "       [ 894,   14],\n",
       "       [ 610,   30],\n",
       "       [ 226,  273],\n",
       "       [1168,   13],\n",
       "       [ 835,   93],\n",
       "       [ 124,   24],\n",
       "       [ 193,   18],\n",
       "       [1600,  136],\n",
       "       [ 258,   24],\n",
       "       [ 105,    8],\n",
       "       [ 273,   41],\n",
       "       [ 914,   81],\n",
       "       [ 118,   16],\n",
       "       [ 122,   31],\n",
       "       [1180,   24],\n",
       "       [3139,   51],\n",
       "       [3725,   43],\n",
       "       [ 935,   20],\n",
       "       [1766,   25],\n",
       "       [2277,  157],\n",
       "       [ 348,   17],\n",
       "       [  87,   24],\n",
       "       [2785,   65],\n",
       "       [3448,  349],\n",
       "       [ 530,   17],\n",
       "       [3147,   10],\n",
       "       [ 918,   21],\n",
       "       [4496,   11],\n",
       "       [ 145,   16],\n",
       "       [  11,   10],\n",
       "       [ 577,   27],\n",
       "       [  66,   16],\n",
       "       [  89,   19],\n",
       "       [2014,   29],\n",
       "       [ 151,   31],\n",
       "       [2175,   41],\n",
       "       [ 371,   19],\n",
       "       [1003,   40],\n",
       "       [1200,   21],\n",
       "       [ 383,   50],\n",
       "       [ 955,   20],\n",
       "       [2372,   10],\n",
       "       [ 740,   35],\n",
       "       [2573,  119],\n",
       "       [ 181,   11],\n",
       "       [ 631,   55],\n",
       "       [ 246,   12],\n",
       "       [ 460,   29],\n",
       "       [ 140,   28],\n",
       "       [ 888,   43],\n",
       "       [ 845,   31],\n",
       "       [  91,   14],\n",
       "       [ 361,   33],\n",
       "       [2455,   24],\n",
       "       [ 361,   43],\n",
       "       [ 262,    9],\n",
       "       [1158,   29],\n",
       "       [1196,   16],\n",
       "       [ 863,   32],\n",
       "       [ 971,   46],\n",
       "       [ 106,   12],\n",
       "       [ 179,   20],\n",
       "       [  49,   24],\n",
       "       [ 614,   31],\n",
       "       [ 450,   42],\n",
       "       [ 182,   10],\n",
       "       [2039,  222],\n",
       "       [ 741,  109]])"
      ]
     },
     "execution_count": 12,
     "metadata": {},
     "output_type": "execute_result"
    }
   ],
   "source": [
    "\n",
    "# ---- Step 3: Select Numeric Features ----\n",
    "# Change column names according to your dataset\n",
    "# For example: \"Posts\", \"Followers\", \"Likes\"\n",
    "features = [\"Followers\",\"Likes\"]  \n",
    "X = df[features].dropna().values\n",
    "X"
   ]
  },
  {
   "cell_type": "markdown",
   "id": "db438675",
   "metadata": {},
   "source": [
    "### Scaling Data"
   ]
  },
  {
   "cell_type": "code",
   "execution_count": 13,
   "id": "a6287c2e",
   "metadata": {},
   "outputs": [],
   "source": [
    "\n",
    "# ---- Step 4: Scale Data ----\n",
    "scaler = StandardScaler()\n",
    "X_scaled = scaler.fit_transform(X)"
   ]
  },
  {
   "cell_type": "markdown",
   "id": "8d1aac74",
   "metadata": {},
   "source": [
    "### Applying DBSCAN"
   ]
  },
  {
   "cell_type": "code",
   "execution_count": 14,
   "id": "b7d6d39c",
   "metadata": {},
   "outputs": [],
   "source": [
    "\n",
    "# ---- Step 5: Apply DBSCAN ----\n",
    "dbscan = DBSCAN(eps=1.5, min_samples=5)  # tune eps & min_samples\n",
    "labels = dbscan.fit_predict(X_scaled)\n"
   ]
  },
  {
   "cell_type": "code",
   "execution_count": 15,
   "id": "fcd759a1",
   "metadata": {},
   "outputs": [
    {
     "name": "stdout",
     "output_type": "stream",
     "text": [
      "\n",
      "Cluster Counts:\n",
      "Cluster\n",
      " 0    98\n",
      "-1     2\n",
      "Name: count, dtype: int64\n"
     ]
    }
   ],
   "source": [
    "\n",
    "# Add results back to DataFrame\n",
    "df[\"Cluster\"] = labels\n",
    "\n",
    "print(\"\\nCluster Counts:\")\n",
    "print(df[\"Cluster\"].value_counts())"
   ]
  },
  {
   "cell_type": "markdown",
   "id": "8ad6ddde",
   "metadata": {},
   "source": [
    "### Visualization"
   ]
  },
  {
   "cell_type": "code",
   "execution_count": 16,
   "id": "c90d05cf",
   "metadata": {},
   "outputs": [
    {
     "data": {
      "image/png": "[encoded data removed]",
      "text/plain": [
       "<Figure size 800x600 with 2 Axes>"
      ]
     },
     "metadata": {},
     "output_type": "display_data"
    }
   ],
   "source": [
    "# ---- Step 6: Visualization ----\n",
    "# (Using first two features for 2D visualization)\n",
    "plt.figure(figsize=(8,6))\n",
    "plt.scatter(\n",
    "    X_scaled[:,0], X_scaled[:,1],\n",
    "    c=labels, cmap=\"plasma\", s=100, alpha=0.7, edgecolors=\"k\"\n",
    ")\n",
    "plt.title(\"DBSCAN Clustering of Social Media Users\")\n",
    "plt.xlabel(features[0] + \" (scaled)\")\n",
    "plt.ylabel(features[1] + \" (scaled)\")\n",
    "plt.colorbar(label=\"Cluster ID\")\n",
    "plt.show()"
   ]
  },
  {
   "cell_type": "markdown",
   "id": "c8706068",
   "metadata": {},
   "source": [
    "### Cluster insights"
   ]
  },
  {
   "cell_type": "code",
   "execution_count": 17,
   "id": "f79b5d02",
   "metadata": {},
   "outputs": [
    {
     "name": "stdout",
     "output_type": "stream",
     "text": [
      "\n",
      "Cluster Summary (mean values):\n"
     ]
    },
    {
     "data": {
      "text/html": [
       "<div>\n",
       "<style scoped>\n",
       "    .dataframe tbody tr th:only-of-type {\n",
       "        vertical-align: middle;\n",
       "    }\n",
       "\n",
       "    .dataframe tbody tr th {\n",
       "        vertical-align: top;\n",
       "    }\n",
       "\n",
       "    .dataframe thead th {\n",
       "        text-align: right;\n",
       "    }\n",
       "</style>\n",
       "<table border=\"1\" class=\"dataframe\">\n",
       "  <thead>\n",
       "    <tr style=\"text-align: right;\">\n",
       "      <th></th>\n",
       "      <th>Followers</th>\n",
       "      <th>Likes</th>\n",
       "    </tr>\n",
       "    <tr>\n",
       "      <th>Cluster</th>\n",
       "      <th></th>\n",
       "      <th></th>\n",
       "    </tr>\n",
       "  </thead>\n",
       "  <tbody>\n",
       "    <tr>\n",
       "      <th>-1</th>\n",
       "      <td>1837.000000</td>\n",
       "      <td>311.000000</td>\n",
       "    </tr>\n",
       "    <tr>\n",
       "      <th>0</th>\n",
       "      <td>944.102041</td>\n",
       "      <td>41.081633</td>\n",
       "    </tr>\n",
       "  </tbody>\n",
       "</table>\n",
       "</div>"
      ],
      "text/plain": [
       "           Followers       Likes\n",
       "Cluster                         \n",
       "-1       1837.000000  311.000000\n",
       " 0        944.102041   41.081633"
      ]
     },
     "metadata": {},
     "output_type": "display_data"
    }
   ],
   "source": [
    "# ---- Step 7: Cluster Insights ----\n",
    "cluster_summary = df.groupby(\"Cluster\")[features].mean()\n",
    "print(\"\\nCluster Summary (mean values):\")\n",
    "display(cluster_summary)\n"
   ]
  }
 ],
 "metadata": {
  "kernelspec": {
   "display_name": "Python 3",
   "language": "python",
   "name": "python3"
  },
  "language_info": {
   "codemirror_mode": {
    "name": "ipython",
    "version": 3
   },
   "file_extension": ".py",
   "mimetype": "text/x-python",
   "name": "python",
   "nbconvert_exporter": "python",
   "pygments_lexer": "ipython3",
   "version": "3.10.11"
  }
 },
 "nbformat": 4,
 "nbformat_minor": 5
}
